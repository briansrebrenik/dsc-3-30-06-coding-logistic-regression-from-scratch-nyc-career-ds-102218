{
 "cells": [
  {
   "cell_type": "markdown",
   "metadata": {},
   "source": [
    "## Coding Logistic Regression From Scratch\n",
    "\n",
    "## Introduction\n",
    "\n",
    "In this lab, you'll practice your ability to translate mathematical algorithms into python functions. This will deepen and solidify your understanding of the logistic regression!\n",
    "\n",
    "## Objectives\n",
    "\n",
    "You will be able to:\n",
    "* Understand and implement logistic regression"
   ]
  },
  {
   "cell_type": "markdown",
   "metadata": {},
   "source": [
    "## Overview\n",
    "\n",
    "Recall that the logistic regression algorithm take our previous intuition from logistic regression. In logistic regression, we start by taking our input data, X and multiplying it by a vector of weights for each of the individual features, which produces our output y. Afterwards we'll work on using an iterative approach via gradient descent to tune these weights."
   ]
  },
  {
   "cell_type": "markdown",
   "metadata": {},
   "source": [
    "## Linear Regression Setup\n",
    "\n",
    "Write a simple function `predict_y` that takes in a matrix `X` of observations and a vector of feature weights `w` and outputs a vector of predictions for the various observations.\n",
    "\n",
    "Recall that this is the sum of the product of each of the feature observations and their corresponding feature weights:  \n",
    "$ \\hat{y}_i = X_{i1} \\bullet w_1 + X_{i2} \\bullet w_2 + X_{i3} \\bullet w_3 + ... + X_{in} \\bullet w_n$\n",
    "\n",
    "Hint: think about which mathematical operation we previously discussed that will take a matrix (X) and multiply it by a vector of weights (w) to succinctly do this in a single operation."
   ]
  },
  {
   "cell_type": "code",
   "execution_count": 1,
   "metadata": {},
   "outputs": [],
   "source": [
    "import numpy as np\n",
    "import pandas as pd"
   ]
  },
  {
   "cell_type": "code",
   "execution_count": 2,
   "metadata": {},
   "outputs": [],
   "source": [
    "def predict_y(observations, weights):\n",
    "    return np.dot(observations, weights)"
   ]
  },
  {
   "cell_type": "markdown",
   "metadata": {},
   "source": [
    "## The Sigmoid Function\n",
    "\n",
    "Recall that the sigmoid function is used to map our previous linear regression model to a range of 0 to 1, satisfying basic premises of probability. As a reminder, the sigmoid function is defined by:  \n",
    "$\\frac{1}{1+e^(-x)}$  \n",
    "Write this as a python function where x is the input and the function outputs the result of the sigmoid function."
   ]
  },
  {
   "cell_type": "code",
   "execution_count": 3,
   "metadata": {},
   "outputs": [],
   "source": [
    "def sigmoid(x):\n",
    "    x = np.array(x)\n",
    "    return 1 / (1+np.e **(-x))"
   ]
  },
  {
   "cell_type": "markdown",
   "metadata": {},
   "source": [
    "## Graphing the Sigmoid\n",
    "\n",
    "For good measure, let's do a brief investigation of your new function. Graph the output of your sigmoid function using 10,000 X values evenly spaced from -20 to 20."
   ]
  },
  {
   "cell_type": "code",
   "execution_count": 4,
   "metadata": {},
   "outputs": [],
   "source": [
    "import matplotlib.pyplot as plt"
   ]
  },
  {
   "cell_type": "code",
   "execution_count": 5,
   "metadata": {},
   "outputs": [
    {
     "data": {
      "image/png": "[encoded data removed]",
      "text/plain": [
       "<Figure size 432x288 with 1 Axes>"
      ]
     },
     "metadata": {},
     "output_type": "display_data"
    }
   ],
   "source": [
    "x = np.linspace(-20, 20, 1000)\n",
    "plt.plot(x, sigmoid(x))\n",
    "plt.show()"
   ]
  },
  {
   "cell_type": "markdown",
   "metadata": {},
   "source": [
    "## Gradient Descent with the Sigmoid Function\n",
    "\n",
    "Recall that gradient descent is a numerical method for finding a minimum to a cost function. In the case of logistic regression, we are looking to minimize the error between our model's predictions and the actual data labels. To do this, we first calculate an error vector based on the current model's feature weights. We then multiply the transpose of the training matrix itself by this error vector in order to obtain the gradient. Finally, we take the gradient, multiply it by our step size and add this to our current weight vector to update it. Below, write such a function. It will take 5 inputs:  \n",
    "* X\n",
    "* y\n",
    "* max_iterations\n",
    "* alpha (the step size)\n",
    "* initial_weights  \n",
    "By default, have your function set the initial_weights parameter to a vector where all feature weights are set to 1."
   ]
  },
  {
   "cell_type": "code",
   "execution_count": 6,
   "metadata": {},
   "outputs": [],
   "source": [
    "# Your code here\n",
    "def grad_desc(X, y, max_iterations, alpha, initial_weights=None):\n",
    "    if initial_weights == None:\n",
    "        initial_weights = np.ones((X.shape[1],1)).flatten()\n",
    "    weights_col= pd.DataFrame(initial_weights)\n",
    "    weights = initial_weights\n",
    "    #Create a for loop of iterations\n",
    "    for iteration in range(max_iterations):\n",
    "        #Generate predictions using the current feature weights\n",
    "        predictions = sigmoid(np.dot(X,weights))\n",
    "        #Calculate an error vector based on these initial predictions and the correct labels\n",
    "        error_vector = y - predictions\n",
    "        #Calculate the gradient \n",
    "        #As we saw in the previous lab, calculating the gradient is often the most difficult task.\n",
    "        #Here, your are provided with the closed form solution for the gradient of the log-loss function derived from MLE\n",
    "        #For more details on the derivation, see the additional resources section below.\n",
    "        gradient = np.dot(X.transpose(),error_vector)\n",
    "        #Update the weight vector take a step of alpha in direction of gradient \n",
    "        weights += alpha * gradient\n",
    "        weights_col = pd.concat([weights_col, pd.DataFrame(weights)], axis=1)\n",
    "    #Return finalized Weights\n",
    "    return weights, weights_col"
   ]
  },
  {
   "cell_type": "markdown",
   "metadata": {},
   "source": [
    "## Running Your Algorithm\n",
    "\n",
    "Now that we've coded everything from the ground up, we can further investigate the convergence behavior of our gradient descent algorithm. Remember that gradient descent does not gaurantee a global minimum, only a local minimum, and that small deviations in the starting point or step size can lead to different outputs.  \n",
    "  \n",
    "Let's begin by running our algorithm and plotting the successive weights of the features through iterations. Below is a dataset, with X and y predefined for you. Use your logistic regression function to find train a model. As the model trains, record the iteration cycle of the gradient descent algorithm and the weights of the various features. Then, plot this data on subplots for each of the individual features. Each graph should have the iteration number on the x-axis and the value of that feature weight for that iteration cycle on the y-axis. This will visually display how the algorithm is adjusting the weights over successive iterations, and hopefully show convergence on stable weights."
   ]
  },
  {
   "cell_type": "code",
   "execution_count": 7,
   "metadata": {},
   "outputs": [
    {
     "name": "stdout",
     "output_type": "stream",
     "text": [
      "1.0    165\n",
      "0.0    138\n",
      "Name: target, dtype: int64\n"
     ]
    },
    {
     "data": {
      "text/html": [
       "<div>\n",
       "<style scoped>\n",
       "    .dataframe tbody tr th:only-of-type {\n",
       "        vertical-align: middle;\n",
       "    }\n",
       "\n",
       "    .dataframe tbody tr th {\n",
       "        vertical-align: top;\n",
       "    }\n",
       "\n",
       "    .dataframe thead th {\n",
       "        text-align: right;\n",
       "    }\n",
       "</style>\n",
       "<table border=\"1\" class=\"dataframe\">\n",
       "  <thead>\n",
       "    <tr style=\"text-align: right;\">\n",
       "      <th></th>\n",
       "      <th>age</th>\n",
       "      <th>sex</th>\n",
       "      <th>cp</th>\n",
       "      <th>trestbps</th>\n",
       "      <th>chol</th>\n",
       "      <th>fbs</th>\n",
       "      <th>restecg</th>\n",
       "      <th>thalach</th>\n",
       "      <th>exang</th>\n",
       "      <th>oldpeak</th>\n",
       "      <th>slope</th>\n",
       "      <th>ca</th>\n",
       "      <th>thal</th>\n",
       "    </tr>\n",
       "  </thead>\n",
       "  <tbody>\n",
       "    <tr>\n",
       "      <th>0</th>\n",
       "      <td>0.708333</td>\n",
       "      <td>1.0</td>\n",
       "      <td>1.000000</td>\n",
       "      <td>0.481132</td>\n",
       "      <td>0.244292</td>\n",
       "      <td>1.0</td>\n",
       "      <td>0.0</td>\n",
       "      <td>0.603053</td>\n",
       "      <td>0.0</td>\n",
       "      <td>0.370968</td>\n",
       "      <td>0.0</td>\n",
       "      <td>0.0</td>\n",
       "      <td>0.333333</td>\n",
       "    </tr>\n",
       "    <tr>\n",
       "      <th>1</th>\n",
       "      <td>0.166667</td>\n",
       "      <td>1.0</td>\n",
       "      <td>0.666667</td>\n",
       "      <td>0.339623</td>\n",
       "      <td>0.283105</td>\n",
       "      <td>0.0</td>\n",
       "      <td>0.5</td>\n",
       "      <td>0.885496</td>\n",
       "      <td>0.0</td>\n",
       "      <td>0.564516</td>\n",
       "      <td>0.0</td>\n",
       "      <td>0.0</td>\n",
       "      <td>0.666667</td>\n",
       "    </tr>\n",
       "    <tr>\n",
       "      <th>2</th>\n",
       "      <td>0.250000</td>\n",
       "      <td>0.0</td>\n",
       "      <td>0.333333</td>\n",
       "      <td>0.339623</td>\n",
       "      <td>0.178082</td>\n",
       "      <td>0.0</td>\n",
       "      <td>0.0</td>\n",
       "      <td>0.770992</td>\n",
       "      <td>0.0</td>\n",
       "      <td>0.225806</td>\n",
       "      <td>1.0</td>\n",
       "      <td>0.0</td>\n",
       "      <td>0.666667</td>\n",
       "    </tr>\n",
       "    <tr>\n",
       "      <th>3</th>\n",
       "      <td>0.562500</td>\n",
       "      <td>1.0</td>\n",
       "      <td>0.333333</td>\n",
       "      <td>0.245283</td>\n",
       "      <td>0.251142</td>\n",
       "      <td>0.0</td>\n",
       "      <td>0.5</td>\n",
       "      <td>0.816794</td>\n",
       "      <td>0.0</td>\n",
       "      <td>0.129032</td>\n",
       "      <td>1.0</td>\n",
       "      <td>0.0</td>\n",
       "      <td>0.666667</td>\n",
       "    </tr>\n",
       "    <tr>\n",
       "      <th>4</th>\n",
       "      <td>0.583333</td>\n",
       "      <td>0.0</td>\n",
       "      <td>0.000000</td>\n",
       "      <td>0.245283</td>\n",
       "      <td>0.520548</td>\n",
       "      <td>0.0</td>\n",
       "      <td>0.5</td>\n",
       "      <td>0.702290</td>\n",
       "      <td>1.0</td>\n",
       "      <td>0.096774</td>\n",
       "      <td>1.0</td>\n",
       "      <td>0.0</td>\n",
       "      <td>0.666667</td>\n",
       "    </tr>\n",
       "  </tbody>\n",
       "</table>\n",
       "</div>"
      ],
      "text/plain": [
       "        age  sex        cp  trestbps      chol  fbs  restecg   thalach  exang  \\\n",
       "0  0.708333  1.0  1.000000  0.481132  0.244292  1.0      0.0  0.603053    0.0   \n",
       "1  0.166667  1.0  0.666667  0.339623  0.283105  0.0      0.5  0.885496    0.0   \n",
       "2  0.250000  0.0  0.333333  0.339623  0.178082  0.0      0.0  0.770992    0.0   \n",
       "3  0.562500  1.0  0.333333  0.245283  0.251142  0.0      0.5  0.816794    0.0   \n",
       "4  0.583333  0.0  0.000000  0.245283  0.520548  0.0      0.5  0.702290    1.0   \n",
       "\n",
       "    oldpeak  slope   ca      thal  \n",
       "0  0.370968    0.0  0.0  0.333333  \n",
       "1  0.564516    0.0  0.0  0.666667  \n",
       "2  0.225806    1.0  0.0  0.666667  \n",
       "3  0.129032    1.0  0.0  0.666667  \n",
       "4  0.096774    1.0  0.0  0.666667  "
      ]
     },
     "execution_count": 7,
     "metadata": {},
     "output_type": "execute_result"
    }
   ],
   "source": [
    "import pandas as pd\n",
    "df = pd.read_csv('heart.csv')\n",
    "X = df[df.columns[:-1]]\n",
    "y = df.target\n",
    "print(y.value_counts())\n",
    "X.head()"
   ]
  },
  {
   "cell_type": "code",
   "execution_count": 8,
   "metadata": {},
   "outputs": [],
   "source": [
    "weights, weight_col = grad_desc(X, y, 10000, 0.001)\n"
   ]
  },
  {
   "cell_type": "code",
   "execution_count": 15,
   "metadata": {},
   "outputs": [],
   "source": [
    "weight_col.columns = np.arange(len(weight_col.columns))"
   ]
  },
  {
   "cell_type": "code",
   "execution_count": 16,
   "metadata": {},
   "outputs": [
    {
     "data": {
      "text/html": [
       "<div>\n",
       "<style scoped>\n",
       "    .dataframe tbody tr th:only-of-type {\n",
       "        vertical-align: middle;\n",
       "    }\n",
       "\n",
       "    .dataframe tbody tr th {\n",
       "        vertical-align: top;\n",
       "    }\n",
       "\n",
       "    .dataframe thead th {\n",
       "        text-align: right;\n",
       "    }\n",
       "</style>\n",
       "<table border=\"1\" class=\"dataframe\">\n",
       "  <thead>\n",
       "    <tr style=\"text-align: right;\">\n",
       "      <th></th>\n",
       "      <th>0</th>\n",
       "      <th>1</th>\n",
       "      <th>2</th>\n",
       "      <th>3</th>\n",
       "      <th>4</th>\n",
       "      <th>5</th>\n",
       "      <th>6</th>\n",
       "      <th>7</th>\n",
       "      <th>8</th>\n",
       "      <th>9</th>\n",
       "      <th>...</th>\n",
       "      <th>9991</th>\n",
       "      <th>9992</th>\n",
       "      <th>9993</th>\n",
       "      <th>9994</th>\n",
       "      <th>9995</th>\n",
       "      <th>9996</th>\n",
       "      <th>9997</th>\n",
       "      <th>9998</th>\n",
       "      <th>9999</th>\n",
       "      <th>10000</th>\n",
       "    </tr>\n",
       "  </thead>\n",
       "  <tbody>\n",
       "    <tr>\n",
       "      <th>0</th>\n",
       "      <td>0.921824</td>\n",
       "      <td>0.921824</td>\n",
       "      <td>0.844091</td>\n",
       "      <td>0.766977</td>\n",
       "      <td>0.690725</td>\n",
       "      <td>0.615666</td>\n",
       "      <td>0.542248</td>\n",
       "      <td>0.471051</td>\n",
       "      <td>0.402792</td>\n",
       "      <td>0.338294</td>\n",
       "      <td>...</td>\n",
       "      <td>0.780181</td>\n",
       "      <td>0.780192</td>\n",
       "      <td>0.780203</td>\n",
       "      <td>0.780213</td>\n",
       "      <td>0.780224</td>\n",
       "      <td>0.780235</td>\n",
       "      <td>0.780246</td>\n",
       "      <td>0.780256</td>\n",
       "      <td>0.780267</td>\n",
       "      <td>0.780278</td>\n",
       "    </tr>\n",
       "    <tr>\n",
       "      <th>1</th>\n",
       "      <td>0.886965</td>\n",
       "      <td>0.886965</td>\n",
       "      <td>0.774398</td>\n",
       "      <td>0.662523</td>\n",
       "      <td>0.551665</td>\n",
       "      <td>0.442287</td>\n",
       "      <td>0.335031</td>\n",
       "      <td>0.230757</td>\n",
       "      <td>0.130552</td>\n",
       "      <td>0.035687</td>\n",
       "      <td>...</td>\n",
       "      <td>-1.601634</td>\n",
       "      <td>-1.601638</td>\n",
       "      <td>-1.601641</td>\n",
       "      <td>-1.601645</td>\n",
       "      <td>-1.601648</td>\n",
       "      <td>-1.601651</td>\n",
       "      <td>-1.601655</td>\n",
       "      <td>-1.601658</td>\n",
       "      <td>-1.601662</td>\n",
       "      <td>-1.601665</td>\n",
       "    </tr>\n",
       "    <tr>\n",
       "      <th>2</th>\n",
       "      <td>0.978665</td>\n",
       "      <td>0.978665</td>\n",
       "      <td>0.957571</td>\n",
       "      <td>0.936807</td>\n",
       "      <td>0.916498</td>\n",
       "      <td>0.896810</td>\n",
       "      <td>0.877964</td>\n",
       "      <td>0.860242</td>\n",
       "      <td>0.843990</td>\n",
       "      <td>0.829602</td>\n",
       "      <td>...</td>\n",
       "      <td>2.617718</td>\n",
       "      <td>2.617718</td>\n",
       "      <td>2.617718</td>\n",
       "      <td>2.617719</td>\n",
       "      <td>2.617719</td>\n",
       "      <td>2.617719</td>\n",
       "      <td>2.617719</td>\n",
       "      <td>2.617720</td>\n",
       "      <td>2.617720</td>\n",
       "      <td>2.617720</td>\n",
       "    </tr>\n",
       "    <tr>\n",
       "      <th>3</th>\n",
       "      <td>0.948142</td>\n",
       "      <td>0.948142</td>\n",
       "      <td>0.896567</td>\n",
       "      <td>0.845390</td>\n",
       "      <td>0.794768</td>\n",
       "      <td>0.744918</td>\n",
       "      <td>0.696134</td>\n",
       "      <td>0.648794</td>\n",
       "      <td>0.603371</td>\n",
       "      <td>0.560406</td>\n",
       "      <td>...</td>\n",
       "      <td>-1.951894</td>\n",
       "      <td>-1.951900</td>\n",
       "      <td>-1.951906</td>\n",
       "      <td>-1.951912</td>\n",
       "      <td>-1.951919</td>\n",
       "      <td>-1.951925</td>\n",
       "      <td>-1.951931</td>\n",
       "      <td>-1.951937</td>\n",
       "      <td>-1.951943</td>\n",
       "      <td>-1.951949</td>\n",
       "    </tr>\n",
       "    <tr>\n",
       "      <th>4</th>\n",
       "      <td>0.961222</td>\n",
       "      <td>0.961222</td>\n",
       "      <td>0.922681</td>\n",
       "      <td>0.884469</td>\n",
       "      <td>0.846715</td>\n",
       "      <td>0.809593</td>\n",
       "      <td>0.773338</td>\n",
       "      <td>0.738251</td>\n",
       "      <td>0.704703</td>\n",
       "      <td>0.673119</td>\n",
       "      <td>...</td>\n",
       "      <td>-1.393193</td>\n",
       "      <td>-1.393228</td>\n",
       "      <td>-1.393264</td>\n",
       "      <td>-1.393299</td>\n",
       "      <td>-1.393334</td>\n",
       "      <td>-1.393369</td>\n",
       "      <td>-1.393404</td>\n",
       "      <td>-1.393440</td>\n",
       "      <td>-1.393475</td>\n",
       "      <td>-1.393510</td>\n",
       "    </tr>\n",
       "    <tr>\n",
       "      <th>5</th>\n",
       "      <td>0.978095</td>\n",
       "      <td>0.978095</td>\n",
       "      <td>0.956234</td>\n",
       "      <td>0.934437</td>\n",
       "      <td>0.912736</td>\n",
       "      <td>0.891173</td>\n",
       "      <td>0.869810</td>\n",
       "      <td>0.848732</td>\n",
       "      <td>0.828054</td>\n",
       "      <td>0.807918</td>\n",
       "      <td>...</td>\n",
       "      <td>0.058193</td>\n",
       "      <td>0.058192</td>\n",
       "      <td>0.058192</td>\n",
       "      <td>0.058191</td>\n",
       "      <td>0.058190</td>\n",
       "      <td>0.058190</td>\n",
       "      <td>0.058189</td>\n",
       "      <td>0.058189</td>\n",
       "      <td>0.058188</td>\n",
       "      <td>0.058188</td>\n",
       "    </tr>\n",
       "    <tr>\n",
       "      <th>6</th>\n",
       "      <td>0.969541</td>\n",
       "      <td>0.969541</td>\n",
       "      <td>0.939287</td>\n",
       "      <td>0.909318</td>\n",
       "      <td>0.879747</td>\n",
       "      <td>0.850725</td>\n",
       "      <td>0.822455</td>\n",
       "      <td>0.795203</td>\n",
       "      <td>0.769294</td>\n",
       "      <td>0.745104</td>\n",
       "      <td>...</td>\n",
       "      <td>1.159859</td>\n",
       "      <td>1.159857</td>\n",
       "      <td>1.159855</td>\n",
       "      <td>1.159853</td>\n",
       "      <td>1.159851</td>\n",
       "      <td>1.159849</td>\n",
       "      <td>1.159847</td>\n",
       "      <td>1.159845</td>\n",
       "      <td>1.159842</td>\n",
       "      <td>1.159840</td>\n",
       "    </tr>\n",
       "    <tr>\n",
       "      <th>7</th>\n",
       "      <td>0.929711</td>\n",
       "      <td>0.929711</td>\n",
       "      <td>0.859963</td>\n",
       "      <td>0.790966</td>\n",
       "      <td>0.723009</td>\n",
       "      <td>0.656483</td>\n",
       "      <td>0.591911</td>\n",
       "      <td>0.529961</td>\n",
       "      <td>0.471451</td>\n",
       "      <td>0.417301</td>\n",
       "      <td>...</td>\n",
       "      <td>4.369094</td>\n",
       "      <td>4.369111</td>\n",
       "      <td>4.369129</td>\n",
       "      <td>4.369146</td>\n",
       "      <td>4.369164</td>\n",
       "      <td>4.369181</td>\n",
       "      <td>4.369199</td>\n",
       "      <td>4.369216</td>\n",
       "      <td>4.369233</td>\n",
       "      <td>4.369251</td>\n",
       "    </tr>\n",
       "    <tr>\n",
       "      <th>8</th>\n",
       "      <td>0.924392</td>\n",
       "      <td>0.924392</td>\n",
       "      <td>0.848973</td>\n",
       "      <td>0.773836</td>\n",
       "      <td>0.699118</td>\n",
       "      <td>0.625019</td>\n",
       "      <td>0.551823</td>\n",
       "      <td>0.479923</td>\n",
       "      <td>0.409834</td>\n",
       "      <td>0.342183</td>\n",
       "      <td>...</td>\n",
       "      <td>-0.831364</td>\n",
       "      <td>-0.831364</td>\n",
       "      <td>-0.831363</td>\n",
       "      <td>-0.831363</td>\n",
       "      <td>-0.831362</td>\n",
       "      <td>-0.831362</td>\n",
       "      <td>-0.831362</td>\n",
       "      <td>-0.831361</td>\n",
       "      <td>-0.831361</td>\n",
       "      <td>-0.831360</td>\n",
       "    </tr>\n",
       "    <tr>\n",
       "      <th>9</th>\n",
       "      <td>0.965014</td>\n",
       "      <td>0.965014</td>\n",
       "      <td>0.930148</td>\n",
       "      <td>0.895453</td>\n",
       "      <td>0.861000</td>\n",
       "      <td>0.826886</td>\n",
       "      <td>0.793248</td>\n",
       "      <td>0.760263</td>\n",
       "      <td>0.728157</td>\n",
       "      <td>0.697195</td>\n",
       "      <td>...</td>\n",
       "      <td>-2.750801</td>\n",
       "      <td>-2.750802</td>\n",
       "      <td>-2.750803</td>\n",
       "      <td>-2.750804</td>\n",
       "      <td>-2.750805</td>\n",
       "      <td>-2.750805</td>\n",
       "      <td>-2.750806</td>\n",
       "      <td>-2.750807</td>\n",
       "      <td>-2.750808</td>\n",
       "      <td>-2.750809</td>\n",
       "    </tr>\n",
       "    <tr>\n",
       "      <th>10</th>\n",
       "      <td>0.921124</td>\n",
       "      <td>0.921124</td>\n",
       "      <td>0.842862</td>\n",
       "      <td>0.765457</td>\n",
       "      <td>0.689245</td>\n",
       "      <td>0.614685</td>\n",
       "      <td>0.542391</td>\n",
       "      <td>0.473156</td>\n",
       "      <td>0.407954</td>\n",
       "      <td>0.347889</td>\n",
       "      <td>...</td>\n",
       "      <td>1.457803</td>\n",
       "      <td>1.457801</td>\n",
       "      <td>1.457800</td>\n",
       "      <td>1.457798</td>\n",
       "      <td>1.457797</td>\n",
       "      <td>1.457795</td>\n",
       "      <td>1.457794</td>\n",
       "      <td>1.457792</td>\n",
       "      <td>1.457791</td>\n",
       "      <td>1.457789</td>\n",
       "    </tr>\n",
       "    <tr>\n",
       "      <th>11</th>\n",
       "      <td>0.959973</td>\n",
       "      <td>0.959973</td>\n",
       "      <td>0.920046</td>\n",
       "      <td>0.880263</td>\n",
       "      <td>0.840691</td>\n",
       "      <td>0.801422</td>\n",
       "      <td>0.762590</td>\n",
       "      <td>0.724372</td>\n",
       "      <td>0.687002</td>\n",
       "      <td>0.650760</td>\n",
       "      <td>...</td>\n",
       "      <td>-3.107943</td>\n",
       "      <td>-3.107945</td>\n",
       "      <td>-3.107947</td>\n",
       "      <td>-3.107949</td>\n",
       "      <td>-3.107952</td>\n",
       "      <td>-3.107954</td>\n",
       "      <td>-3.107956</td>\n",
       "      <td>-3.107958</td>\n",
       "      <td>-3.107960</td>\n",
       "      <td>-3.107963</td>\n",
       "    </tr>\n",
       "    <tr>\n",
       "      <th>12</th>\n",
       "      <td>0.884694</td>\n",
       "      <td>0.884694</td>\n",
       "      <td>0.770039</td>\n",
       "      <td>0.656297</td>\n",
       "      <td>0.543836</td>\n",
       "      <td>0.433160</td>\n",
       "      <td>0.324949</td>\n",
       "      <td>0.220093</td>\n",
       "      <td>0.119691</td>\n",
       "      <td>0.025007</td>\n",
       "      <td>...</td>\n",
       "      <td>-2.191576</td>\n",
       "      <td>-2.191577</td>\n",
       "      <td>-2.191577</td>\n",
       "      <td>-2.191578</td>\n",
       "      <td>-2.191578</td>\n",
       "      <td>-2.191579</td>\n",
       "      <td>-2.191579</td>\n",
       "      <td>-2.191580</td>\n",
       "      <td>-2.191580</td>\n",
       "      <td>-2.191581</td>\n",
       "    </tr>\n",
       "  </tbody>\n",
       "</table>\n",
       "<p>13 rows × 10001 columns</p>\n",
       "</div>"
      ],
      "text/plain": [
       "       0         1         2         3         4         5         6      \\\n",
       "0   0.921824  0.921824  0.844091  0.766977  0.690725  0.615666  0.542248   \n",
       "1   0.886965  0.886965  0.774398  0.662523  0.551665  0.442287  0.335031   \n",
       "2   0.978665  0.978665  0.957571  0.936807  0.916498  0.896810  0.877964   \n",
       "3   0.948142  0.948142  0.896567  0.845390  0.794768  0.744918  0.696134   \n",
       "4   0.961222  0.961222  0.922681  0.884469  0.846715  0.809593  0.773338   \n",
       "5   0.978095  0.978095  0.956234  0.934437  0.912736  0.891173  0.869810   \n",
       "6   0.969541  0.969541  0.939287  0.909318  0.879747  0.850725  0.822455   \n",
       "7   0.929711  0.929711  0.859963  0.790966  0.723009  0.656483  0.591911   \n",
       "8   0.924392  0.924392  0.848973  0.773836  0.699118  0.625019  0.551823   \n",
       "9   0.965014  0.965014  0.930148  0.895453  0.861000  0.826886  0.793248   \n",
       "10  0.921124  0.921124  0.842862  0.765457  0.689245  0.614685  0.542391   \n",
       "11  0.959973  0.959973  0.920046  0.880263  0.840691  0.801422  0.762590   \n",
       "12  0.884694  0.884694  0.770039  0.656297  0.543836  0.433160  0.324949   \n",
       "\n",
       "       7         8         9        ...        9991      9992      9993   \\\n",
       "0   0.471051  0.402792  0.338294    ...     0.780181  0.780192  0.780203   \n",
       "1   0.230757  0.130552  0.035687    ...    -1.601634 -1.601638 -1.601641   \n",
       "2   0.860242  0.843990  0.829602    ...     2.617718  2.617718  2.617718   \n",
       "3   0.648794  0.603371  0.560406    ...    -1.951894 -1.951900 -1.951906   \n",
       "4   0.738251  0.704703  0.673119    ...    -1.393193 -1.393228 -1.393264   \n",
       "5   0.848732  0.828054  0.807918    ...     0.058193  0.058192  0.058192   \n",
       "6   0.795203  0.769294  0.745104    ...     1.159859  1.159857  1.159855   \n",
       "7   0.529961  0.471451  0.417301    ...     4.369094  4.369111  4.369129   \n",
       "8   0.479923  0.409834  0.342183    ...    -0.831364 -0.831364 -0.831363   \n",
       "9   0.760263  0.728157  0.697195    ...    -2.750801 -2.750802 -2.750803   \n",
       "10  0.473156  0.407954  0.347889    ...     1.457803  1.457801  1.457800   \n",
       "11  0.724372  0.687002  0.650760    ...    -3.107943 -3.107945 -3.107947   \n",
       "12  0.220093  0.119691  0.025007    ...    -2.191576 -2.191577 -2.191577   \n",
       "\n",
       "       9994      9995      9996      9997      9998      9999      10000  \n",
       "0   0.780213  0.780224  0.780235  0.780246  0.780256  0.780267  0.780278  \n",
       "1  -1.601645 -1.601648 -1.601651 -1.601655 -1.601658 -1.601662 -1.601665  \n",
       "2   2.617719  2.617719  2.617719  2.617719  2.617720  2.617720  2.617720  \n",
       "3  -1.951912 -1.951919 -1.951925 -1.951931 -1.951937 -1.951943 -1.951949  \n",
       "4  -1.393299 -1.393334 -1.393369 -1.393404 -1.393440 -1.393475 -1.393510  \n",
       "5   0.058191  0.058190  0.058190  0.058189  0.058189  0.058188  0.058188  \n",
       "6   1.159853  1.159851  1.159849  1.159847  1.159845  1.159842  1.159840  \n",
       "7   4.369146  4.369164  4.369181  4.369199  4.369216  4.369233  4.369251  \n",
       "8  -0.831363 -0.831362 -0.831362 -0.831362 -0.831361 -0.831361 -0.831360  \n",
       "9  -2.750804 -2.750805 -2.750805 -2.750806 -2.750807 -2.750808 -2.750809  \n",
       "10  1.457798  1.457797  1.457795  1.457794  1.457792  1.457791  1.457789  \n",
       "11 -3.107949 -3.107952 -3.107954 -3.107956 -3.107958 -3.107960 -3.107963  \n",
       "12 -2.191578 -2.191578 -2.191579 -2.191579 -2.191580 -2.191580 -2.191581  \n",
       "\n",
       "[13 rows x 10001 columns]"
      ]
     },
     "execution_count": 16,
     "metadata": {},
     "output_type": "execute_result"
    }
   ],
   "source": [
    "weight_col"
   ]
  },
  {
   "cell_type": "code",
   "execution_count": 20,
   "metadata": {},
   "outputs": [
    {
     "data": {
      "image/png": "[encoded data removed]",
      "text/plain": [
       "<Figure size 432x288 with 1 Axes>"
      ]
     },
     "metadata": {},
     "output_type": "display_data"
    },
    {
     "data": {
      "image/png": "[encoded data removed]",
      "text/plain": [
       "<Figure size 432x288 with 1 Axes>"
      ]
     },
     "metadata": {},
     "output_type": "display_data"
    },
    {
     "data": {
      "image/png": "[encoded data removed]",
      "text/plain": [
       "<Figure size 432x288 with 1 Axes>"
      ]
     },
     "metadata": {},
     "output_type": "display_data"
    },
    {
     "data": {
      "image/png": "[encoded data removed]",
      "text/plain": [
       "<Figure size 432x288 with 1 Axes>"
      ]
     },
     "metadata": {},
     "output_type": "display_data"
    },
    {
     "data": {
      "image/png": "[encoded data removed]",
      "text/plain": [
       "<Figure size 432x288 with 1 Axes>"
      ]
     },
     "metadata": {},
     "output_type": "display_data"
    },
    {
     "data": {
      "image/png": "[encoded data removed]",
      "text/plain": [
       "<Figure size 432x288 with 1 Axes>"
      ]
     },
     "metadata": {},
     "output_type": "display_data"
    },
    {
     "data": {
      "image/png": "[encoded data removed]",
      "text/plain": [
       "<Figure size 432x288 with 1 Axes>"
      ]
     },
     "metadata": {},
     "output_type": "display_data"
    },
    {
     "data": {
      "image/png": "[encoded data removed]",
      "text/plain": [
       "<Figure size 432x288 with 1 Axes>"
      ]
     },
     "metadata": {},
     "output_type": "display_data"
    },
    {
     "data": {
      "image/png": "[encoded data removed]",
      "text/plain": [
       "<Figure size 432x288 with 1 Axes>"
      ]
     },
     "metadata": {},
     "output_type": "display_data"
    },
    {
     "data": {
      "image/png": "[encoded data removed]",
      "text/plain": [
       "<Figure size 432x288 with 1 Axes>"
      ]
     },
     "metadata": {},
     "output_type": "display_data"
    },
    {
     "data": {
      "image/png": "[encoded data removed]",
      "text/plain": [
       "<Figure size 432x288 with 1 Axes>"
      ]
     },
     "metadata": {},
     "output_type": "display_data"
    },
    {
     "data": {
      "image/png": "[encoded data removed]",
      "text/plain": [
       "<Figure size 432x288 with 1 Axes>"
      ]
     },
     "metadata": {},
     "output_type": "display_data"
    },
    {
     "data": {
      "image/png": "[encoded data removed]",
      "text/plain": [
       "<Figure size 432x288 with 1 Axes>"
      ]
     },
     "metadata": {},
     "output_type": "display_data"
    }
   ],
   "source": [
    "for i in range(len(X.columns)):\n",
    "    plt.plot(weight_col.columns, weight_col.iloc[i])\n",
    "    plt.title(X.columns[i])\n",
    "    plt.show()"
   ]
  },
  {
   "cell_type": "markdown",
   "metadata": {},
   "source": [
    "## sci-kit learn\n",
    "\n",
    "For comparison, import sci-kit learn's standard LogisticRegression function. Initialize a regression object with **no intercept** and with **C=1e16** or another very high number. The reason is as follows: our implementation has not used an intercept, and we have not performed any regularization such as Lasso or Ridge (sci-kit learn uses l2 by default). The high value of C will essentially negate this.\n",
    "\n",
    "After initializing a regression object, fit it to X and y."
   ]
  },
  {
   "cell_type": "code",
   "execution_count": 22,
   "metadata": {},
   "outputs": [],
   "source": [
    "from sklearn.linear_model import LogisticRegression\n",
    "logistic = LogisticRegression(fit_intercept=False, C=1e16)"
   ]
  },
  {
   "cell_type": "code",
   "execution_count": 23,
   "metadata": {
    "scrolled": true
   },
   "outputs": [
    {
     "data": {
      "text/plain": [
       "LogisticRegression(C=1e+16, class_weight=None, dual=False,\n",
       "          fit_intercept=False, intercept_scaling=1, max_iter=100,\n",
       "          multi_class='ovr', n_jobs=1, penalty='l2', random_state=None,\n",
       "          solver='liblinear', tol=0.0001, verbose=0, warm_start=False)"
      ]
     },
     "execution_count": 23,
     "metadata": {},
     "output_type": "execute_result"
    }
   ],
   "source": [
    "logistic.fit(X, y)"
   ]
  },
  {
   "cell_type": "code",
   "execution_count": 24,
   "metadata": {},
   "outputs": [
    {
     "data": {
      "text/plain": [
       "array([[ 0.81221467, -1.61293693,  2.6179496 , -1.96887354, -1.50936862,\n",
       "         0.05688225,  1.1521945 ,  4.42098698, -0.83027951, -2.74686109,\n",
       "         1.45580368, -3.115599  , -2.19130405]])"
      ]
     },
     "execution_count": 24,
     "metadata": {},
     "output_type": "execute_result"
    }
   ],
   "source": [
    "logistic.coef_"
   ]
  },
  {
   "cell_type": "markdown",
   "metadata": {},
   "source": [
    "## Compare the models\n",
    "\n",
    "Compare the coefficient weights of your model to that generated by sci-kit learn."
   ]
  },
  {
   "cell_type": "code",
   "execution_count": 212,
   "metadata": {},
   "outputs": [],
   "source": [
    "# Your code here"
   ]
  },
  {
   "cell_type": "markdown",
   "metadata": {},
   "source": [
    "## Level - Up\n",
    "\n",
    "Update the gradient descent algorithm to also return the prediction error after each iteration. Then rerun the algorithm and create a graph displaying the prediction errors versus the iteration number."
   ]
  },
  {
   "cell_type": "code",
   "execution_count": 26,
   "metadata": {},
   "outputs": [],
   "source": [
    "def grad_desc(X, y, max_iterations, alpha, initial_weights=None):\n",
    "    if initial_weights == None:\n",
    "        initial_weights = np.ones((X.shape[1],1)).flatten()\n",
    "    weights_col= pd.DataFrame(initial_weights)\n",
    "    weights = initial_weights\n",
    "    errors = []\n",
    "    for iteration in range(max_iterations):\n",
    "        predictions = sigmoid(np.dot(X,weights))\n",
    "        error_vector = y - predictions\n",
    "        gradient = np.dot(X.transpose(),error_vector)\n",
    "        weights += alpha * gradient\n",
    "        weights_col = pd.concat([weights_col, pd.DataFrame(weights)], axis=1)\n",
    "        errors.append(np.sum(np.abs(error_vector)))\n",
    "    return weights, errors"
   ]
  },
  {
   "cell_type": "code",
   "execution_count": 27,
   "metadata": {},
   "outputs": [],
   "source": [
    "weights, errors = grad_desc(X, y, 10000, .001)"
   ]
  },
  {
   "cell_type": "code",
   "execution_count": 37,
   "metadata": {},
   "outputs": [
    {
     "data": {
      "text/plain": [
       "[<matplotlib.lines.Line2D at 0x11f21eeb8>]"
      ]
     },
     "execution_count": 37,
     "metadata": {},
     "output_type": "execute_result"
    },
    {
     "data": {
      "image/png": "[encoded data removed]",
      "text/plain": [
       "<Figure size 432x288 with 1 Axes>"
      ]
     },
     "metadata": {},
     "output_type": "display_data"
    }
   ],
   "source": [
    "plt.plot(range(len(errors)), errors)\n"
   ]
  },
  {
   "cell_type": "markdown",
   "metadata": {},
   "source": [
    "## Additional Resources\n",
    "\n",
    "If you want to see more of the mathematics behind the gradient derivation above, check out section 4.4.1 from the Elements of Statistical Learning which can be found here: https://web.stanford.edu/~hastie/ElemStatLearn//."
   ]
  },
  {
   "cell_type": "markdown",
   "metadata": {},
   "source": [
    "## Summary\n",
    "\n",
    "Congratulations! You just coded logistic regression from the ground up using NumPy! With this, you should have a fairly deep understanding of logistic regression and how the algorithm works! In the upcoming labs, we'll continue to explore this from a few more angles, plotting our data along with the decision boundary for our predictions."
   ]
  }
 ],
 "metadata": {
  "kernelspec": {
   "display_name": "Python 3",
   "language": "python",
   "name": "python3"
  },
  "language_info": {
   "codemirror_mode": {
    "name": "ipython",
    "version": 3
   },
   "file_extension": ".py",
   "mimetype": "text/x-python",
   "name": "python",
   "nbconvert_exporter": "python",
   "pygments_lexer": "ipython3",
   "version": "3.6.5"
  }
 },
 "nbformat": 4,
 "nbformat_minor": 2
}
